{
 "cells": [
  {
   "cell_type": "markdown",
   "metadata": {},
   "source": [
    "# MegaTrond\n",
    "## Et datainsamlings prosjekt, Teknologi og forskningslære H23\n",
    "\n",
    "Laget av: Elias, Hedda og Aksel\n"
   ]
  },
  {
   "cell_type": "markdown",
   "metadata": {},
   "source": [
    "# Oppgave\n",
    "Bruk arduino og sensorer for å gjøre undersøkelser og samle inn data. Dataene skal lagres til fil og bearbeides for så å presenteres på en oversiktlig måte.\n",
    "\n",
    "Resultatet skal presenteres i en skriftlig rapport der problemstillingen og prosessen beskrives, og målingene vises og drøftes. I tillegg skal prosjektet presenteres i en kort presentasjon for klassen.\n",
    "\n",
    "# Problemstilling\n",
    "Hvilket klasserom har best læringsmiljø? Finnes det noe korrelasjon mellom hvilke fag som var i et klasserom og hvordan miljøet i klasserommet er?\n",
    "\n",
    "# Introduksjon\n",
    "I dette prosjektet har vi valgt å samle miljø-data fra utvalgte klasserom og deretter bruke denne dataen til å finne ut hvilket klasserom som har best læringsmiljø. Vi vil også se hvordan hvilke fag som er i ett klasserom påvirker læringsmiljøet. For å gjøre dette har vi samlet div data med en Arduino Uno og brukt en Raspberry Pi 2B+ for å lagre dataen. Vi valgte å ta i bruk Raspberry Pien for å forenkle logge prossesen og slippe å ha en laptop stående med RPien til alle tider.\n",
    "\n",
    "Dette prosjektet består av fire hoveddeler\n",
    "## Innholdsfortegnelse\n",
    "1. [Introduksjon](#Introduksjon)\n",
    "2. [Innsamling av data](#Innsamling-av-data)\n",
    "    1. [Logging av data](#Logging-av-data-med-Arduino)\n",
    "    2. [Lagring av data](#Lagring-av-data-med-RPi)\n",
    "3. [Resultater](#Resultater)\n",
    "    1. [Visualisering](#visualisering)\n",
    "    2. [Sentraltendens og Spredning](#sentraltendens-og-spredning)\n",
    "    3. [Korrelasjon](#korrelasjon)\n",
    "    4. [Regresjon](#regresjon)\n",
    "4. [Drøfting](#drøfting)\n",
    "    1. [Visualisering](#visualisering-av-data)\n",
    "    2. [Korrelasjoner](#korrelasjoner)"
   ]
  },
  {
   "cell_type": "markdown",
   "metadata": {},
   "source": [
    "# Innsamling av data\n",
    "Innsamling av data er sentralt i dette prosjektet. Vi brukte mye tid på å bestemme hvilke sensorer og metoder vi skulle benytte for å samle inn data. Vi valgte bruke en BME680 som den sentrale sensoren i prosjektet, denne sensoren kan samle inn trykk, temperatur, luftfuktighet og gass. Vi hadde også med en fotoresisitor og en lydmåler.\n",
    "\n",
    "# Logging av data med Arduino\n",
    "Som nevnt bruker vi en Arduino for å samle dataen fra sensorene og aggregere den. For å redusere mengden feilkilder så gjør vi lite prossesering av dataen på arduinoen og vi valgte heller å sende rå data videre så vi kan prossesere den i etterkant. Vi har et ganske enkelt program for å samle inn data. Mesteparten av dataen kommer fra BME680 sensoren som kommuniserer og protokollen I2C. Denne protokollen gjør det veldig lett å samle inn data fra den sensoren. Etter at dataen er hentet fra sensorene skrives det til RPien over serial. Vi skriver det til serial i CSV format for å gjøre det lett å håndtere senere. Arduino programmet kan sees [her](https://github.com/EliasTors/MegaTrond/blob/main/MegaTrond-Data-collector/MegaTrond-Data-collector.ino) eller så kan det sees under:\n",
    "\n",
    "\n",
    "```C++\n",
    "#include <Wire.h>\n",
    "#include <Adafruit_Sensor.h>\n",
    "#include <Adafruit_BME680.h>\n",
    "int lyd = A0;\n",
    "int lys = A1;\n",
    "Adafruit_BME680 bme; // create BME680 object\n",
    "\n",
    "void setup() {\n",
    "    pinMode(lyd,INPUT);\n",
    "    pinMode(lys, INPUT);\n",
    "    Serial.begin(600);\n",
    "    while (!Serial); // wait for serial port to connect\n",
    "    if (!bme.begin(0x76)) {\n",
    "        Serial.println(F(\"Could not find a valid BME680 sensor, check wiring!!\"));\n",
    "        while (1);\n",
    "    }\n",
    "    Serial.println(\"Temp,Pressure, humidity, gas, lyd, lys\");\n",
    "}\n",
    "\n",
    "void loop() {\n",
    "    int lydniva = analogRead(lyd);\n",
    "    int lysniva = analogRead(lys);\n",
    "    if (! bme.performReading()) {\n",
    "        Serial.println(\"Failed to perform reading :(\");\n",
    "        return;\n",
    "    }\n",
    "\n",
    "    Serial.print(bme.temperature);\n",
    "    Serial.print(\",\");\n",
    "    Serial.print(bme.pressure / 100.0);\n",
    "    Serial.print(\",\");\n",
    "    Serial.print(bme.humidity);\n",
    "    Serial.print(\",\");\n",
    "    Serial.print(bme.gas_resistance / 1000.0);\n",
    "    Serial.print(\",\");\n",
    "    Serial.print(lydniva);\n",
    "    Serial.print(\",\");\n",
    "    Serial.print(lysniva);\n",
    "    Serial.println();\n",
    "\n",
    "    delay(1000);\n",
    "}\n",
    "```\n",
    "\n",
    "# Lagring av data med RPi\n",
    "Som nevnt i introduksjonen så brukte vi en RPi for å lagre dataen etter at Arduinoen hadde samlet de. Vi valgte å bruke en RPi fordi det er enkeltstående, robust og godt dokumentert. Vi startet med å bruke en RPi Zero 2 der vi skrev dataen direkte til en CSV fil, men vi støttet på problemer med overoppheting etter kort tid. Vi valgte derfor å gå over til å bruke den litt mer robuste Raspberry Pi 2B+. Vi byttet også metoden vår for lagring til SQL lite for å redusere hvor tungt Pien måtte jobbe med prossesen. Etter disse endringene støttet vi ikke på flere problemer. Vi valgte å benytte Rasbian OS lite etter som vi ikke har behov for en GUI og det gjorde det lettere å få Pien stabil. Koden som kjører på RPien kan sees [her]() eller nedenfor. Den er designet for å beholde data selv om Pien plutselig mister strøm. Vi aktiverer den ved å koble til Pien med SSH også bare kjøre det som et annet python program. Det eneste man trenger å installere i tillegg til standard python er biblioteket `pyserial` ettersom det er dette vi bruker for å samle data fra arduinoen over USB serial.\n",
    "```python\n",
    "\n",
    "\n",
    "```"
   ]
  },
  {
   "cell_type": "markdown",
   "metadata": {},
   "source": [
    "# Resultater"
   ]
  },
  {
   "cell_type": "markdown",
   "metadata": {},
   "source": [
    "Vi fikk mange resultater i de forskjellige rommene og har valgt a visualisere dem ved hjelp av grafer og korrelasjonsmatriser med hensikten å se sammenhenger mellom forskjellige datapunkter og for å se ulikheter i de forskjellige rommene. "
   ]
  },
  {
   "cell_type": "raw",
   "metadata": {},
   "source": [
    "# Drøfting \n",
    "drøfting her\n",
    "\n",
    "## Visualisering\n",
    "Visualisering her\n",
    "\n",
    "## Korrelasjoner\n",
    "Korrelasjoner her"
   ]
  },
  {
   "cell_type": "code",
   "execution_count": null,
   "metadata": {},
   "outputs": [],
   "source": []
  }
 ],
 "metadata": {
  "kernelspec": {
   "display_name": "Python 3",
   "language": "python",
   "name": "python3"
  },
  "language_info": {
   "codemirror_mode": {
    "name": "ipython",
    "version": 3
   },
   "file_extension": ".py",
   "mimetype": "text/x-python",
   "name": "python",
   "nbconvert_exporter": "python",
   "pygments_lexer": "ipython3",
   "version": "3.8.8"
  }
 },
 "nbformat": 4,
 "nbformat_minor": 2
}
